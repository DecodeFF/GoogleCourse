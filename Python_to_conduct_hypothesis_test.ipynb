{
 "cells": [
  {
   "cell_type": "code",
   "execution_count": 1,
   "id": "b313fd62",
   "metadata": {},
   "outputs": [],
   "source": [
    "import pandas as pd\n",
    "from scipy import stats"
   ]
  },
  {
   "cell_type": "code",
   "execution_count": 2,
   "id": "df65598e",
   "metadata": {},
   "outputs": [],
   "source": [
    "df = pd.read_csv(\"education_districtwise.csv\")\n",
    "df = df.dropna()"
   ]
  },
  {
   "cell_type": "code",
   "execution_count": 3,
   "id": "256dada6",
   "metadata": {},
   "outputs": [
    {
     "data": {
      "text/html": [
       "<div>\n",
       "<style scoped>\n",
       "    .dataframe tbody tr th:only-of-type {\n",
       "        vertical-align: middle;\n",
       "    }\n",
       "\n",
       "    .dataframe tbody tr th {\n",
       "        vertical-align: top;\n",
       "    }\n",
       "\n",
       "    .dataframe thead th {\n",
       "        text-align: right;\n",
       "    }\n",
       "</style>\n",
       "<table border=\"1\" class=\"dataframe\">\n",
       "  <thead>\n",
       "    <tr style=\"text-align: right;\">\n",
       "      <th></th>\n",
       "      <th>DISTNAME</th>\n",
       "      <th>STATNAME</th>\n",
       "      <th>BLOCKS</th>\n",
       "      <th>VILLAGES</th>\n",
       "      <th>CLUSTERS</th>\n",
       "      <th>TOTPOPULAT</th>\n",
       "      <th>OVERALL_LI</th>\n",
       "    </tr>\n",
       "  </thead>\n",
       "  <tbody>\n",
       "    <tr>\n",
       "      <th>0</th>\n",
       "      <td>DISTRICT32</td>\n",
       "      <td>STATE1</td>\n",
       "      <td>13</td>\n",
       "      <td>391</td>\n",
       "      <td>104</td>\n",
       "      <td>875564.0</td>\n",
       "      <td>66.92</td>\n",
       "    </tr>\n",
       "    <tr>\n",
       "      <th>1</th>\n",
       "      <td>DISTRICT649</td>\n",
       "      <td>STATE1</td>\n",
       "      <td>18</td>\n",
       "      <td>678</td>\n",
       "      <td>144</td>\n",
       "      <td>1015503.0</td>\n",
       "      <td>66.93</td>\n",
       "    </tr>\n",
       "    <tr>\n",
       "      <th>2</th>\n",
       "      <td>DISTRICT229</td>\n",
       "      <td>STATE1</td>\n",
       "      <td>8</td>\n",
       "      <td>94</td>\n",
       "      <td>65</td>\n",
       "      <td>1269751.0</td>\n",
       "      <td>71.21</td>\n",
       "    </tr>\n",
       "    <tr>\n",
       "      <th>3</th>\n",
       "      <td>DISTRICT259</td>\n",
       "      <td>STATE1</td>\n",
       "      <td>13</td>\n",
       "      <td>523</td>\n",
       "      <td>104</td>\n",
       "      <td>735753.0</td>\n",
       "      <td>57.98</td>\n",
       "    </tr>\n",
       "    <tr>\n",
       "      <th>4</th>\n",
       "      <td>DISTRICT486</td>\n",
       "      <td>STATE1</td>\n",
       "      <td>8</td>\n",
       "      <td>359</td>\n",
       "      <td>64</td>\n",
       "      <td>570060.0</td>\n",
       "      <td>65.00</td>\n",
       "    </tr>\n",
       "    <tr>\n",
       "      <th>...</th>\n",
       "      <td>...</td>\n",
       "      <td>...</td>\n",
       "      <td>...</td>\n",
       "      <td>...</td>\n",
       "      <td>...</td>\n",
       "      <td>...</td>\n",
       "      <td>...</td>\n",
       "    </tr>\n",
       "    <tr>\n",
       "      <th>675</th>\n",
       "      <td>DISTRICT522</td>\n",
       "      <td>STATE29</td>\n",
       "      <td>37</td>\n",
       "      <td>876</td>\n",
       "      <td>137</td>\n",
       "      <td>5296396.0</td>\n",
       "      <td>78.05</td>\n",
       "    </tr>\n",
       "    <tr>\n",
       "      <th>676</th>\n",
       "      <td>DISTRICT498</td>\n",
       "      <td>STATE29</td>\n",
       "      <td>64</td>\n",
       "      <td>1458</td>\n",
       "      <td>230</td>\n",
       "      <td>4042191.0</td>\n",
       "      <td>56.06</td>\n",
       "    </tr>\n",
       "    <tr>\n",
       "      <th>677</th>\n",
       "      <td>DISTRICT343</td>\n",
       "      <td>STATE29</td>\n",
       "      <td>59</td>\n",
       "      <td>1117</td>\n",
       "      <td>216</td>\n",
       "      <td>3483648.0</td>\n",
       "      <td>65.05</td>\n",
       "    </tr>\n",
       "    <tr>\n",
       "      <th>678</th>\n",
       "      <td>DISTRICT130</td>\n",
       "      <td>STATE29</td>\n",
       "      <td>51</td>\n",
       "      <td>993</td>\n",
       "      <td>211</td>\n",
       "      <td>3522644.0</td>\n",
       "      <td>66.16</td>\n",
       "    </tr>\n",
       "    <tr>\n",
       "      <th>679</th>\n",
       "      <td>DISTRICT341</td>\n",
       "      <td>STATE29</td>\n",
       "      <td>41</td>\n",
       "      <td>783</td>\n",
       "      <td>185</td>\n",
       "      <td>2798214.0</td>\n",
       "      <td>65.46</td>\n",
       "    </tr>\n",
       "  </tbody>\n",
       "</table>\n",
       "<p>634 rows × 7 columns</p>\n",
       "</div>"
      ],
      "text/plain": [
       "        DISTNAME STATNAME  BLOCKS  VILLAGES  CLUSTERS  TOTPOPULAT  OVERALL_LI\n",
       "0     DISTRICT32   STATE1      13       391       104    875564.0       66.92\n",
       "1    DISTRICT649   STATE1      18       678       144   1015503.0       66.93\n",
       "2    DISTRICT229   STATE1       8        94        65   1269751.0       71.21\n",
       "3    DISTRICT259   STATE1      13       523       104    735753.0       57.98\n",
       "4    DISTRICT486   STATE1       8       359        64    570060.0       65.00\n",
       "..           ...      ...     ...       ...       ...         ...         ...\n",
       "675  DISTRICT522  STATE29      37       876       137   5296396.0       78.05\n",
       "676  DISTRICT498  STATE29      64      1458       230   4042191.0       56.06\n",
       "677  DISTRICT343  STATE29      59      1117       216   3483648.0       65.05\n",
       "678  DISTRICT130  STATE29      51       993       211   3522644.0       66.16\n",
       "679  DISTRICT341  STATE29      41       783       185   2798214.0       65.46\n",
       "\n",
       "[634 rows x 7 columns]"
      ]
     },
     "execution_count": 3,
     "metadata": {},
     "output_type": "execute_result"
    }
   ],
   "source": [
    "df"
   ]
  },
  {
   "cell_type": "code",
   "execution_count": 4,
   "id": "4fca34b1",
   "metadata": {},
   "outputs": [],
   "source": [
    "state21 = df[df['STATNAME'] == \"STATE21\"]\n",
    "state28 = df[df['STATNAME'] == \"STATE28\"]"
   ]
  },
  {
   "cell_type": "code",
   "execution_count": 5,
   "id": "52c41422",
   "metadata": {},
   "outputs": [],
   "source": [
    "sampled_state21 = state21.sample(n=20, replace = True, random_state=13490)"
   ]
  },
  {
   "cell_type": "code",
   "execution_count": 6,
   "id": "66e2aefc",
   "metadata": {},
   "outputs": [],
   "source": [
    "sampled_state28 = state28.sample(n=20, replace = True, random_state=39103)"
   ]
  },
  {
   "cell_type": "code",
   "execution_count": 7,
   "id": "49edc2f1",
   "metadata": {},
   "outputs": [
    {
     "data": {
      "text/plain": [
       "70.82900000000001"
      ]
     },
     "execution_count": 7,
     "metadata": {},
     "output_type": "execute_result"
    }
   ],
   "source": [
    "sampled_state21['OVERALL_LI'].mean()"
   ]
  },
  {
   "cell_type": "code",
   "execution_count": 9,
   "id": "20014459",
   "metadata": {},
   "outputs": [
    {
     "data": {
      "text/plain": [
       "214    55.10\n",
       "239    75.59\n",
       "221    65.68\n",
       "211    53.53\n",
       "211    53.53\n",
       "234    66.41\n",
       "239    75.59\n",
       "243    61.63\n",
       "219    54.57\n",
       "212    60.90\n",
       "225    68.56\n",
       "229    64.96\n",
       "223    71.59\n",
       "217    53.56\n",
       "226    63.81\n",
       "222    67.04\n",
       "231    73.30\n",
       "212    60.90\n",
       "235    72.47\n",
       "231    73.30\n",
       "Name: OVERALL_LI, dtype: float64"
      ]
     },
     "execution_count": 9,
     "metadata": {},
     "output_type": "execute_result"
    }
   ],
   "source": [
    "sampled_state28['OVERALL_LI'].mean()"
   ]
  },
  {
   "cell_type": "markdown",
   "id": "40c14db1",
   "metadata": {},
   "source": [
    "## Conduct a hypothesis test\n",
    "\n"
   ]
  },
  {
   "cell_type": "markdown",
   "id": "c16ceb46",
   "metadata": {},
   "source": [
    "### Step 1: State the null hypothesis and the alternative hypothesis\n",
    "The null hypothesis is a statement that is assumed to be true unless there is convincing evidence to the contrary. The alternative hypothesis is a statement that contradicts the null hypothesis, and is accepted as true only if there is convincing evidence for it.\n",
    "\n",
    "In a two-sample t-test, the null hypothesis states that there is no difference between the means of your two groups. The alternative hypothesis states the contrary claim: there is a difference between the means of your two groups.\n",
    "\n",
    "We use  𝐻0\n",
    "  to denote the null hypothesis, and  𝐻𝐴\n",
    "  to denote the alternative hypothesis.\n",
    "\n",
    "𝐻0\n",
    " : There is no difference in the mean district literacy rates between STATE21 and STATE28\n",
    "𝐻𝐴\n",
    " : There is a difference in the mean district literacy rates between STATE21 and STATE28\n",
    "### Step 2: Choose a significance level\n",
    "The significance level is the threshold at which you will consider a result statistically significant. This is the probability of rejecting the null hypothesis when it is true. The education department asks you to use their standard level of 5%, or 0.05.\n",
    "\n",
    "### Step 3: Find the p-value\n",
    "P-value refers to the probability of observing results as or more extreme than those observed when the null hypothesis is true.\n",
    "\n",
    "Based on your sample data, the difference between the mean district literacy rates of STATE21 and STATE28 is 6.2 percentage points. Your null hypothesis claims that this difference is due to chance. Your p-value is the probability of observing an absolute difference in sample means that is 6.2 or greater if the null hypothesis is true. If the probability of this outcome is very unlikely - in particular, if your p-value is less than your significance level of 5% – then you will reject the null hypothesis.\n",
    "\n",
    "scipy.stats.ttest_ind()\n",
    "For a two-sample 𝑡\n",
    "-test, you can use scipy.stats.ttest_ind() to compute your p-value. This function includes the following arguments:\n",
    "\n",
    "a: Observations from the first sample.\n",
    "b: Observations from the second sample.\n",
    "equal_var: A boolean, or true/false statement, which indicates whether the population variance of the two samples is assumed to be equal. In our example, you don’t have access to data for the entire population, so you don’t want to assume anything about the variance. To avoid making a wrong assumption, set this argument to False.\n",
    "Reference: https://docs.scipy.org/doc/scipy/reference/generated/scipy.stats.ttest_ind.html.\n",
    "\n",
    "Now you’re ready to write your code and enter the relevant arguments:\n",
    "\n",
    "a: Your first sample refers to the district literacy rate data for STATE21, which is stored in the OVERALL_LI column of your variable sampled_ state21.\n",
    "b: Your second sample refers to the district literacy rate data for STATE28, which is stored in the OVERALL_LI column of your variable sampled_ state28.\n",
    "equal_var: Set to False because you don’t want to assume that the two samples have the same variance."
   ]
  },
  {
   "cell_type": "code",
   "execution_count": 12,
   "id": "fc52e69e",
   "metadata": {},
   "outputs": [
    {
     "data": {
      "text/plain": [
       "Ttest_indResult(statistic=2.8980444277268735, pvalue=0.006421719142765237)"
      ]
     },
     "execution_count": 12,
     "metadata": {},
     "output_type": "execute_result"
    }
   ],
   "source": [
    "stats.ttest_ind(a=sampled_state21['OVERALL_LI'], b=sampled_state28['OVERALL_LI'], equal_var=False)"
   ]
  },
  {
   "cell_type": "markdown",
   "id": "dc41b5c2",
   "metadata": {},
   "source": [
    "### Step 4: Reject or fail to reject the null hypothesis\n",
    "To draw a conclusion, compare your p-value with the significance level.\n",
    "\n",
    "If the p-value is less than the significance level, you conclude there is a statistically significant difference in the mean district literacy rates between STATE21 and STATE28. In other words, you reject the null hypothesis  𝐻0\n",
    " .\n",
    "If the p-value is greater than the significance level, you conclude there is not a statistically significant difference in the mean district literacy rates between STATE21 and STATE28. In other words, you fail to reject the null hypothesis  𝐻0\n",
    " .\n",
    "Your p-value of 0.0064, or 0.64%, is less than the significance level of 0.05, or 5%. So, you reject the null hypothesis, and conclude that there is a statistically significant difference between the mean district literacy rates of the two states STATE21 and STATE28.\n",
    "\n",
    "Your analysis will help the education department decide how to distribute government resources. Since there is a statistically significant difference in mean district literacy rates, the state with the lower literacy rate, STATE28, will likely receive more resources to improve literacy.\n",
    "\n",
    "If you have successfully completed the material above, congratulations! You now understand how to use Python to conduct a two-sample hypothesis test. Going forward, you can start using Python to conduct hypothesis tests on your own data."
   ]
  },
  {
   "cell_type": "code",
   "execution_count": null,
   "id": "8000d4d6",
   "metadata": {},
   "outputs": [],
   "source": []
  }
 ],
 "metadata": {
  "kernelspec": {
   "display_name": "Python 3 (ipykernel)",
   "language": "python",
   "name": "python3"
  },
  "language_info": {
   "codemirror_mode": {
    "name": "ipython",
    "version": 3
   },
   "file_extension": ".py",
   "mimetype": "text/x-python",
   "name": "python",
   "nbconvert_exporter": "python",
   "pygments_lexer": "ipython3",
   "version": "3.11.3"
  }
 },
 "nbformat": 4,
 "nbformat_minor": 5
}
