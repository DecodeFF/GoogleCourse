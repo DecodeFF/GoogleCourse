{
 "cells":[
  {
   "cell_type":"code",
   "source":[
    "import numpy as np\n",
    "import pandas as pd\n",
    "import matplotlib.pyplot as plt\n",
    "from scipy import stats\n",
    "import statsmodels.api as sm"
   ],
   "execution_count":1,
   "outputs":[
    
   ],
   "metadata":{
    "datalore":{
     "node_id":"afEsbrAzn4oVdS1LytKvgl",
     "type":"CODE",
     "hide_input_from_viewers":false,
     "hide_output_from_viewers":false,
     "report_properties":{
      "rowId":"DgVvPGN4utbn8b8BEEl6ae"
     }
    }
   }
  },
  {
   "cell_type":"code",
   "source":[
    "df  = pd.read_csv('education_districtwise.csv')\n",
    "df = df.dropna()"
   ],
   "execution_count":3,
   "outputs":[
    
   ],
   "metadata":{
    "datalore":{
     "node_id":"4UQp5h2yaYq0jP8pSHh2Cj",
     "type":"CODE",
     "hide_input_from_viewers":false,
     "hide_output_from_viewers":false,
     "report_properties":{
      "rowId":"FQm9om4QDPI4hRZUqSl5AY"
     }
    }
   }
  },
  {
   "cell_type":"code",
   "source":[
    "df"
   ],
   "execution_count":4,
   "outputs":[
    {
     "data":{
      "text\/html":[
       "<div>\n",
       "<style scoped>\n",
       "    .dataframe tbody tr th:only-of-type {\n",
       "        vertical-align: middle;\n",
       "    }\n",
       "\n",
       "    .dataframe tbody tr th {\n",
       "        vertical-align: top;\n",
       "    }\n",
       "\n",
       "    .dataframe thead th {\n",
       "        text-align: right;\n",
       "    }\n",
       "<\/style>\n",
       "<table border=\"1\" class=\"dataframe\">\n",
       "  <thead>\n",
       "    <tr style=\"text-align: right;\">\n",
       "      <th><\/th>\n",
       "      <th>DISTNAME<\/th>\n",
       "      <th>STATNAME<\/th>\n",
       "      <th>BLOCKS<\/th>\n",
       "      <th>VILLAGES<\/th>\n",
       "      <th>CLUSTERS<\/th>\n",
       "      <th>TOTPOPULAT<\/th>\n",
       "      <th>OVERALL_LI<\/th>\n",
       "    <\/tr>\n",
       "  <\/thead>\n",
       "  <tbody>\n",
       "    <tr>\n",
       "      <th>0<\/th>\n",
       "      <td>DISTRICT32<\/td>\n",
       "      <td>STATE1<\/td>\n",
       "      <td>13<\/td>\n",
       "      <td>391<\/td>\n",
       "      <td>104<\/td>\n",
       "      <td>875564.0<\/td>\n",
       "      <td>66.92<\/td>\n",
       "    <\/tr>\n",
       "    <tr>\n",
       "      <th>1<\/th>\n",
       "      <td>DISTRICT649<\/td>\n",
       "      <td>STATE1<\/td>\n",
       "      <td>18<\/td>\n",
       "      <td>678<\/td>\n",
       "      <td>144<\/td>\n",
       "      <td>1015503.0<\/td>\n",
       "      <td>66.93<\/td>\n",
       "    <\/tr>\n",
       "    <tr>\n",
       "      <th>2<\/th>\n",
       "      <td>DISTRICT229<\/td>\n",
       "      <td>STATE1<\/td>\n",
       "      <td>8<\/td>\n",
       "      <td>94<\/td>\n",
       "      <td>65<\/td>\n",
       "      <td>1269751.0<\/td>\n",
       "      <td>71.21<\/td>\n",
       "    <\/tr>\n",
       "    <tr>\n",
       "      <th>3<\/th>\n",
       "      <td>DISTRICT259<\/td>\n",
       "      <td>STATE1<\/td>\n",
       "      <td>13<\/td>\n",
       "      <td>523<\/td>\n",
       "      <td>104<\/td>\n",
       "      <td>735753.0<\/td>\n",
       "      <td>57.98<\/td>\n",
       "    <\/tr>\n",
       "    <tr>\n",
       "      <th>4<\/th>\n",
       "      <td>DISTRICT486<\/td>\n",
       "      <td>STATE1<\/td>\n",
       "      <td>8<\/td>\n",
       "      <td>359<\/td>\n",
       "      <td>64<\/td>\n",
       "      <td>570060.0<\/td>\n",
       "      <td>65.00<\/td>\n",
       "    <\/tr>\n",
       "    <tr>\n",
       "      <th>...<\/th>\n",
       "      <td>...<\/td>\n",
       "      <td>...<\/td>\n",
       "      <td>...<\/td>\n",
       "      <td>...<\/td>\n",
       "      <td>...<\/td>\n",
       "      <td>...<\/td>\n",
       "      <td>...<\/td>\n",
       "    <\/tr>\n",
       "    <tr>\n",
       "      <th>675<\/th>\n",
       "      <td>DISTRICT522<\/td>\n",
       "      <td>STATE29<\/td>\n",
       "      <td>37<\/td>\n",
       "      <td>876<\/td>\n",
       "      <td>137<\/td>\n",
       "      <td>5296396.0<\/td>\n",
       "      <td>78.05<\/td>\n",
       "    <\/tr>\n",
       "    <tr>\n",
       "      <th>676<\/th>\n",
       "      <td>DISTRICT498<\/td>\n",
       "      <td>STATE29<\/td>\n",
       "      <td>64<\/td>\n",
       "      <td>1458<\/td>\n",
       "      <td>230<\/td>\n",
       "      <td>4042191.0<\/td>\n",
       "      <td>56.06<\/td>\n",
       "    <\/tr>\n",
       "    <tr>\n",
       "      <th>677<\/th>\n",
       "      <td>DISTRICT343<\/td>\n",
       "      <td>STATE29<\/td>\n",
       "      <td>59<\/td>\n",
       "      <td>1117<\/td>\n",
       "      <td>216<\/td>\n",
       "      <td>3483648.0<\/td>\n",
       "      <td>65.05<\/td>\n",
       "    <\/tr>\n",
       "    <tr>\n",
       "      <th>678<\/th>\n",
       "      <td>DISTRICT130<\/td>\n",
       "      <td>STATE29<\/td>\n",
       "      <td>51<\/td>\n",
       "      <td>993<\/td>\n",
       "      <td>211<\/td>\n",
       "      <td>3522644.0<\/td>\n",
       "      <td>66.16<\/td>\n",
       "    <\/tr>\n",
       "    <tr>\n",
       "      <th>679<\/th>\n",
       "      <td>DISTRICT341<\/td>\n",
       "      <td>STATE29<\/td>\n",
       "      <td>41<\/td>\n",
       "      <td>783<\/td>\n",
       "      <td>185<\/td>\n",
       "      <td>2798214.0<\/td>\n",
       "      <td>65.46<\/td>\n",
       "    <\/tr>\n",
       "  <\/tbody>\n",
       "<\/table>\n",
       "<p>634 rows × 7 columns<\/p>\n",
       "<\/div>"
      ]
     },
     "metadata":{
      
     },
     "output_type":"display_data"
    }
   ],
   "metadata":{
    "datalore":{
     "node_id":"I6TuaEJCNYpGxinGftEw1x",
     "type":"CODE",
     "hide_input_from_viewers":false,
     "hide_output_from_viewers":false,
     "report_properties":{
      "rowId":"7RXf3garqu8rQmcMbPajfZ"
     }
    }
   }
  },
  {
   "cell_type":"code",
   "source":[
    "df['OVERALL_LI'].hist()"
   ],
   "execution_count":6,
   "outputs":[
    {
     "data":{
      "text\/plain":[
       "<Axes: >"
      ]
     },
     "metadata":{
      
     },
     "output_type":"display_data"
    },
    {
     "data":{
      "image\/png":"[encoded data removed]"
     },
     "metadata":{
      "image\/png":{
       
      }
     },
     "output_type":"display_data"
    }
   ],
   "metadata":{
    "datalore":{
     "node_id":"asVVKt2rrs42mFRwS4FBzN",
     "type":"CODE",
     "hide_input_from_viewers":false,
     "hide_output_from_viewers":false,
     "report_properties":{
      "rowId":"Gn9fe6XRzuZha3jDFIavpe"
     }
    }
   }
  },
  {
   "cell_type":"code",
   "source":[
    "mean_overall_li = df['OVERALL_LI'].mean()\n",
    "mean_overall_li"
   ],
   "execution_count":7,
   "outputs":[
    {
     "data":{
      "text\/plain":[
       "73.39518927444796"
      ]
     },
     "metadata":{
      
     },
     "output_type":"display_data"
    }
   ],
   "metadata":{
    "datalore":{
     "node_id":"d80q5ZNtXscYojvmCvb8bq",
     "type":"CODE",
     "hide_input_from_viewers":false,
     "hide_output_from_viewers":false,
     "report_properties":{
      "rowId":"isJ1ZIoT3NlEkV66WFpQU7"
     }
    }
   }
  },
  {
   "cell_type":"code",
   "source":[
    "std_overall_li = df['OVERALL_LI'].std()\n",
    "std_overall_li"
   ],
   "execution_count":8,
   "outputs":[
    {
     "data":{
      "text\/plain":[
       "10.098460413782467"
      ]
     },
     "metadata":{
      
     },
     "output_type":"display_data"
    }
   ],
   "metadata":{
    "datalore":{
     "node_id":"1FfxBnQrsaA8D0OiMKI6QH",
     "type":"CODE",
     "hide_input_from_viewers":false,
     "hide_output_from_viewers":false,
     "report_properties":{
      "rowId":"Fd00VC7DikXEzKbdhPSHPK"
     }
    }
   }
  },
  {
   "cell_type":"code",
   "source":[
    "lower_limit = mean_overall_li - 1 * std_overall_li\n",
    "upper_limit = mean_overall_li + 1 * std_overall_li\n",
    "((df['OVERALL_LI'] >= lower_limit) & (df['OVERALL_LI'] <= upper_limit)).mean()"
   ],
   "execution_count":9,
   "outputs":[
    {
     "data":{
      "text\/plain":[
       "0.6640378548895899"
      ]
     },
     "metadata":{
      
     },
     "output_type":"display_data"
    }
   ],
   "metadata":{
    "datalore":{
     "node_id":"FMwjcAg05WbAuHUKANR2tJ",
     "type":"CODE",
     "hide_input_from_viewers":false,
     "hide_output_from_viewers":false,
     "report_properties":{
      "rowId":"twlG3fN6nN3NT0jhyr6GFa"
     }
    }
   }
  },
  {
   "cell_type":"code",
   "source":[
    "lower_limit = mean_overall_li - 2 * std_overall_li\n",
    "upper_limit = mean_overall_li + 2 * std_overall_li\n",
    "((df['OVERALL_LI'] >= lower_limit) & (df['OVERALL_LI'] <= upper_limit)).mean()"
   ],
   "execution_count":10,
   "outputs":[
    {
     "data":{
      "text\/plain":[
       "0.9542586750788643"
      ]
     },
     "metadata":{
      
     },
     "output_type":"display_data"
    }
   ],
   "metadata":{
    "datalore":{
     "node_id":"hIFp0fTd2IgdE2OXim0JWs",
     "type":"CODE",
     "hide_input_from_viewers":false,
     "hide_output_from_viewers":false,
     "report_properties":{
      "rowId":"I0PDBoBTxQMRpCYOHMcz5X"
     }
    }
   }
  },
  {
   "cell_type":"code",
   "source":[
    "lower_limit = mean_overall_li - 3 * std_overall_li\n",
    "upper_limit = mean_overall_li + 3 * std_overall_li\n",
    "((df['OVERALL_LI'] >= lower_limit) & (df['OVERALL_LI'] <= upper_limit)).mean()"
   ],
   "execution_count":11,
   "outputs":[
    {
     "data":{
      "text\/plain":[
       "0.9968454258675079"
      ]
     },
     "metadata":{
      
     },
     "output_type":"display_data"
    }
   ],
   "metadata":{
    "datalore":{
     "node_id":"MwPBfGRiL0gQ4adImsyucG",
     "type":"CODE",
     "hide_input_from_viewers":false,
     "hide_output_from_viewers":false,
     "report_properties":{
      "rowId":"BikOegfDIntDlhhF9IjpPO"
     }
    }
   }
  },
  {
   "cell_type":"code",
   "source":[
    "df['Z_SCORE'] = stats.zscore(df['OVERALL_LI'])\n",
    "df"
   ],
   "execution_count":12,
   "outputs":[
    {
     "data":{
      "text\/html":[
       "<div>\n",
       "<style scoped>\n",
       "    .dataframe tbody tr th:only-of-type {\n",
       "        vertical-align: middle;\n",
       "    }\n",
       "\n",
       "    .dataframe tbody tr th {\n",
       "        vertical-align: top;\n",
       "    }\n",
       "\n",
       "    .dataframe thead th {\n",
       "        text-align: right;\n",
       "    }\n",
       "<\/style>\n",
       "<table border=\"1\" class=\"dataframe\">\n",
       "  <thead>\n",
       "    <tr style=\"text-align: right;\">\n",
       "      <th><\/th>\n",
       "      <th>DISTNAME<\/th>\n",
       "      <th>STATNAME<\/th>\n",
       "      <th>BLOCKS<\/th>\n",
       "      <th>VILLAGES<\/th>\n",
       "      <th>CLUSTERS<\/th>\n",
       "      <th>TOTPOPULAT<\/th>\n",
       "      <th>OVERALL_LI<\/th>\n",
       "      <th>Z_SCORE<\/th>\n",
       "    <\/tr>\n",
       "  <\/thead>\n",
       "  <tbody>\n",
       "    <tr>\n",
       "      <th>0<\/th>\n",
       "      <td>DISTRICT32<\/td>\n",
       "      <td>STATE1<\/td>\n",
       "      <td>13<\/td>\n",
       "      <td>391<\/td>\n",
       "      <td>104<\/td>\n",
       "      <td>875564.0<\/td>\n",
       "      <td>66.92<\/td>\n",
       "      <td>-0.641712<\/td>\n",
       "    <\/tr>\n",
       "    <tr>\n",
       "      <th>1<\/th>\n",
       "      <td>DISTRICT649<\/td>\n",
       "      <td>STATE1<\/td>\n",
       "      <td>18<\/td>\n",
       "      <td>678<\/td>\n",
       "      <td>144<\/td>\n",
       "      <td>1015503.0<\/td>\n",
       "      <td>66.93<\/td>\n",
       "      <td>-0.640721<\/td>\n",
       "    <\/tr>\n",
       "    <tr>\n",
       "      <th>2<\/th>\n",
       "      <td>DISTRICT229<\/td>\n",
       "      <td>STATE1<\/td>\n",
       "      <td>8<\/td>\n",
       "      <td>94<\/td>\n",
       "      <td>65<\/td>\n",
       "      <td>1269751.0<\/td>\n",
       "      <td>71.21<\/td>\n",
       "      <td>-0.216559<\/td>\n",
       "    <\/tr>\n",
       "    <tr>\n",
       "      <th>3<\/th>\n",
       "      <td>DISTRICT259<\/td>\n",
       "      <td>STATE1<\/td>\n",
       "      <td>13<\/td>\n",
       "      <td>523<\/td>\n",
       "      <td>104<\/td>\n",
       "      <td>735753.0<\/td>\n",
       "      <td>57.98<\/td>\n",
       "      <td>-1.527694<\/td>\n",
       "    <\/tr>\n",
       "    <tr>\n",
       "      <th>4<\/th>\n",
       "      <td>DISTRICT486<\/td>\n",
       "      <td>STATE1<\/td>\n",
       "      <td>8<\/td>\n",
       "      <td>359<\/td>\n",
       "      <td>64<\/td>\n",
       "      <td>570060.0<\/td>\n",
       "      <td>65.00<\/td>\n",
       "      <td>-0.831990<\/td>\n",
       "    <\/tr>\n",
       "    <tr>\n",
       "      <th>...<\/th>\n",
       "      <td>...<\/td>\n",
       "      <td>...<\/td>\n",
       "      <td>...<\/td>\n",
       "      <td>...<\/td>\n",
       "      <td>...<\/td>\n",
       "      <td>...<\/td>\n",
       "      <td>...<\/td>\n",
       "      <td>...<\/td>\n",
       "    <\/tr>\n",
       "    <tr>\n",
       "      <th>675<\/th>\n",
       "      <td>DISTRICT522<\/td>\n",
       "      <td>STATE29<\/td>\n",
       "      <td>37<\/td>\n",
       "      <td>876<\/td>\n",
       "      <td>137<\/td>\n",
       "      <td>5296396.0<\/td>\n",
       "      <td>78.05<\/td>\n",
       "      <td>0.461307<\/td>\n",
       "    <\/tr>\n",
       "    <tr>\n",
       "      <th>676<\/th>\n",
       "      <td>DISTRICT498<\/td>\n",
       "      <td>STATE29<\/td>\n",
       "      <td>64<\/td>\n",
       "      <td>1458<\/td>\n",
       "      <td>230<\/td>\n",
       "      <td>4042191.0<\/td>\n",
       "      <td>56.06<\/td>\n",
       "      <td>-1.717972<\/td>\n",
       "    <\/tr>\n",
       "    <tr>\n",
       "      <th>677<\/th>\n",
       "      <td>DISTRICT343<\/td>\n",
       "      <td>STATE29<\/td>\n",
       "      <td>59<\/td>\n",
       "      <td>1117<\/td>\n",
       "      <td>216<\/td>\n",
       "      <td>3483648.0<\/td>\n",
       "      <td>65.05<\/td>\n",
       "      <td>-0.827035<\/td>\n",
       "    <\/tr>\n",
       "    <tr>\n",
       "      <th>678<\/th>\n",
       "      <td>DISTRICT130<\/td>\n",
       "      <td>STATE29<\/td>\n",
       "      <td>51<\/td>\n",
       "      <td>993<\/td>\n",
       "      <td>211<\/td>\n",
       "      <td>3522644.0<\/td>\n",
       "      <td>66.16<\/td>\n",
       "      <td>-0.717030<\/td>\n",
       "    <\/tr>\n",
       "    <tr>\n",
       "      <th>679<\/th>\n",
       "      <td>DISTRICT341<\/td>\n",
       "      <td>STATE29<\/td>\n",
       "      <td>41<\/td>\n",
       "      <td>783<\/td>\n",
       "      <td>185<\/td>\n",
       "      <td>2798214.0<\/td>\n",
       "      <td>65.46<\/td>\n",
       "      <td>-0.786403<\/td>\n",
       "    <\/tr>\n",
       "  <\/tbody>\n",
       "<\/table>\n",
       "<p>634 rows × 8 columns<\/p>\n",
       "<\/div>"
      ]
     },
     "metadata":{
      
     },
     "output_type":"display_data"
    }
   ],
   "metadata":{
    "datalore":{
     "node_id":"4W8qoKJpueJHJxzVRlenby",
     "type":"CODE",
     "hide_input_from_viewers":false,
     "hide_output_from_viewers":false,
     "report_properties":{
      "rowId":"94sGS5BgmGOdebApNnqzMJ"
     }
    }
   }
  },
  {
   "cell_type":"code",
   "source":[
    "df[(df['Z_SCORE'] > 3) | (df['Z_SCORE'] < -3)]"
   ],
   "execution_count":15,
   "outputs":[
    {
     "data":{
      "text\/html":[
       "<div>\n",
       "<style scoped>\n",
       "    .dataframe tbody tr th:only-of-type {\n",
       "        vertical-align: middle;\n",
       "    }\n",
       "\n",
       "    .dataframe tbody tr th {\n",
       "        vertical-align: top;\n",
       "    }\n",
       "\n",
       "    .dataframe thead th {\n",
       "        text-align: right;\n",
       "    }\n",
       "<\/style>\n",
       "<table border=\"1\" class=\"dataframe\">\n",
       "  <thead>\n",
       "    <tr style=\"text-align: right;\">\n",
       "      <th><\/th>\n",
       "      <th>DISTNAME<\/th>\n",
       "      <th>STATNAME<\/th>\n",
       "      <th>BLOCKS<\/th>\n",
       "      <th>VILLAGES<\/th>\n",
       "      <th>CLUSTERS<\/th>\n",
       "      <th>TOTPOPULAT<\/th>\n",
       "      <th>OVERALL_LI<\/th>\n",
       "      <th>Z_SCORE<\/th>\n",
       "    <\/tr>\n",
       "  <\/thead>\n",
       "  <tbody>\n",
       "    <tr>\n",
       "      <th>434<\/th>\n",
       "      <td>DISTRICT461<\/td>\n",
       "      <td>STATE31<\/td>\n",
       "      <td>4<\/td>\n",
       "      <td>360<\/td>\n",
       "      <td>53<\/td>\n",
       "      <td>532791.0<\/td>\n",
       "      <td>42.67<\/td>\n",
       "      <td>-3.044964<\/td>\n",
       "    <\/tr>\n",
       "    <tr>\n",
       "      <th>494<\/th>\n",
       "      <td>DISTRICT429<\/td>\n",
       "      <td>STATE22<\/td>\n",
       "      <td>6<\/td>\n",
       "      <td>612<\/td>\n",
       "      <td>62<\/td>\n",
       "      <td>728677.0<\/td>\n",
       "      <td>37.22<\/td>\n",
       "      <td>-3.585076<\/td>\n",
       "    <\/tr>\n",
       "  <\/tbody>\n",
       "<\/table>\n",
       "<\/div>"
      ]
     },
     "metadata":{
      
     },
     "output_type":"display_data"
    }
   ],
   "metadata":{
    "datalore":{
     "node_id":"VJQyJrAfd1KUQgWmlbsgF2",
     "type":"CODE",
     "hide_input_from_viewers":false,
     "hide_output_from_viewers":false,
     "report_properties":{
      "rowId":"ECYRH6Ci7fqlpl8i5sGKwm"
     }
    }
   }
  },
  {
   "cell_type":"markdown",
   "source":[
    "**Thanks to this code, we found out whether our date set is equal to the Empirical Rules, that is, 1 standard deviation is 68, 2 - 95 and 3 -99.7 we have 66,95,99.6, that is, we can say that the rule is being applied.We also found two lines that are outliers**"
   ],
   "attachments":{
    
   },
   "metadata":{
    "datalore":{
     "node_id":"CSeWrUL5om5hBUK9Ho3si2",
     "type":"MD",
     "hide_input_from_viewers":false,
     "hide_output_from_viewers":false,
     "report_properties":{
      "rowId":"coMGTeJEHOFkMB6Arh529J"
     }
    }
   }
  },
  {
   "cell_type":"code",
   "source":[
    
   ],
   "execution_count":null,
   "outputs":[
    
   ],
   "metadata":{
    "datalore":{
     "node_id":"CU8nhJATcsCYNpuzbtoPGy",
     "type":"CODE",
     "hide_input_from_viewers":true,
     "hide_output_from_viewers":true
    }
   }
  }
 ],
 "metadata":{
  "kernelspec":{
   "display_name":"Python",
   "language":"python",
   "name":"python"
  },
  "datalore":{
   "computation_mode":"JUPYTER",
   "package_manager":"pip",
   "base_environment":"default",
   "packages":[
    
   ],
   "report_row_ids":[
    "DgVvPGN4utbn8b8BEEl6ae",
    "FQm9om4QDPI4hRZUqSl5AY",
    "7RXf3garqu8rQmcMbPajfZ",
    "Gn9fe6XRzuZha3jDFIavpe",
    "isJ1ZIoT3NlEkV66WFpQU7",
    "Fd00VC7DikXEzKbdhPSHPK",
    "twlG3fN6nN3NT0jhyr6GFa",
    "I0PDBoBTxQMRpCYOHMcz5X",
    "BikOegfDIntDlhhF9IjpPO",
    "94sGS5BgmGOdebApNnqzMJ",
    "ECYRH6Ci7fqlpl8i5sGKwm",
    "coMGTeJEHOFkMB6Arh529J"
   ],
   "version":3
  }
 },
 "nbformat":4,
 "nbformat_minor":4
}
